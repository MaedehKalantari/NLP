{
  "cells": [
    {
      "cell_type": "markdown",
      "source": [
        "#Natural Language Processing (NLP)\n",
        "This notebook covers the main concepts in NLP, providing explanations, code examples, and libraries you can use for each task."
      ],
      "metadata": {
        "id": "TpWA2mo0aaZo"
      }
    },
    {
      "cell_type": "code",
      "source": [
        "import nltk # natural language toolkit\n",
        "nltk.download('punkt')\n",
        "nltk.download('averaged_perceptron_tagger')\n",
        "nltk.download('stopwords') # and, it, of, the, ..."
      ],
      "metadata": {
        "colab": {
          "base_uri": "https://localhost:8080/"
        },
        "id": "f0fdSS2YbSsV",
        "outputId": "fefd936d-ff95-4e40-c9bf-a2f34058ce05"
      },
      "execution_count": null,
      "outputs": [
        {
          "output_type": "stream",
          "name": "stderr",
          "text": [
            "[nltk_data] Downloading package punkt to /root/nltk_data...\n",
            "[nltk_data]   Package punkt is already up-to-date!\n",
            "[nltk_data] Downloading package averaged_perceptron_tagger to\n",
            "[nltk_data]     /root/nltk_data...\n",
            "[nltk_data]   Package averaged_perceptron_tagger is already up-to-\n",
            "[nltk_data]       date!\n",
            "[nltk_data] Downloading package stopwords to /root/nltk_data...\n",
            "[nltk_data]   Package stopwords is already up-to-date!\n"
          ]
        },
        {
          "output_type": "execute_result",
          "data": {
            "text/plain": [
              "True"
            ]
          },
          "metadata": {},
          "execution_count": 27
        }
      ]
    },
    {
      "cell_type": "markdown",
      "source": [
        "## 1. Chunking\n",
        "Chunking is the process of grouping words into meaningful chunks (e.g., noun phrases)."
      ],
      "metadata": {
        "id": "Sd_ZBW7baeIe"
      }
    },
    {
      "cell_type": "code",
      "execution_count": null,
      "metadata": {
        "id": "lIYdn1woOS1n",
        "colab": {
          "base_uri": "https://localhost:8080/"
        },
        "outputId": "c2e92587-aac6-4f73-a582-77b747a50e20"
      },
      "outputs": [
        {
          "output_type": "stream",
          "name": "stdout",
          "text": [
            "                                S                                          \n",
            "     ___________________________|_______________________________            \n",
            "    |        |     |            NP               NP             NP         \n",
            "    |        |     |     _______|________        |       _______|______     \n",
            "jumps/VBZ over/IN ./. The/DT quick/JJ brown/NN fox/NN the/DT lazy/JJ dog/NN\n",
            "\n"
          ]
        }
      ],
      "source": [
        "from nltk import pos_tag, word_tokenize, RegexpParser\n",
        "\n",
        "text = \"The quick brown fox jumps over the lazy dog.\"\n",
        "tokens = word_tokenize(text)\n",
        "# part of speech\n",
        "pos_tags = pos_tag(tokens)\n",
        "grammar = \"NP: {<DT>?<JJ>*<NN>}\"\n",
        "chunk_parser = RegexpParser(grammar)\n",
        "tree = chunk_parser.parse(pos_tags)\n",
        "\n",
        "# Print the tree structure\n",
        "tree.pretty_print()\n"
      ]
    },
    {
      "cell_type": "markdown",
      "source": [
        "## 2. Parsing\n",
        "Parsing refers to the syntactic analysis of sentences to identify grammatical structures.\n",
        "\n",
        "* Libraries: spacy, nltk\n",
        "\n"
      ],
      "metadata": {
        "id": "92eodBV0ai5T"
      }
    },
    {
      "cell_type": "code",
      "source": [
        "import spacy\n",
        "\n",
        "nlp = spacy.load('en_core_web_sm')\n",
        "doc = nlp(\"The quick brown fox jumps over the lazy dog.\")\n",
        "for token in doc:\n",
        "    print(token.text, token.dep_, token.head.text)\n"
      ],
      "metadata": {
        "colab": {
          "base_uri": "https://localhost:8080/"
        },
        "id": "UvMAPoMhahcM",
        "outputId": "d966e6af-f3d0-4958-af1e-58bcad6be05d"
      },
      "execution_count": null,
      "outputs": [
        {
          "output_type": "stream",
          "name": "stdout",
          "text": [
            "The det fox\n",
            "quick amod fox\n",
            "brown amod fox\n",
            "fox nsubj jumps\n",
            "jumps ROOT jumps\n",
            "over prep jumps\n",
            "the det dog\n",
            "lazy amod dog\n",
            "dog pobj over\n",
            ". punct jumps\n"
          ]
        }
      ]
    },
    {
      "cell_type": "markdown",
      "source": [
        "## 3. Stemming\n",
        "Stemming reduces words to their root form.\n",
        "\n",
        "* Libraries: PorterStemmer, SnowballStemmer\n",
        "\n"
      ],
      "metadata": {
        "id": "J3XzzYgIbo2E"
      }
    },
    {
      "cell_type": "code",
      "source": [
        "from nltk.stem import PorterStemmer\n",
        "\n",
        "stemmer = PorterStemmer()\n",
        "words = [\"running\", \"runner\", \"runs\", \"ran\"]\n",
        "stems = [stemmer.stem(word) for word in words]\n",
        "print(stems)\n"
      ],
      "metadata": {
        "colab": {
          "base_uri": "https://localhost:8080/"
        },
        "id": "RpcCJNn-ak5Y",
        "outputId": "296e9706-fcff-49c3-dc83-f4cc71bcc77d"
      },
      "execution_count": null,
      "outputs": [
        {
          "output_type": "stream",
          "name": "stdout",
          "text": [
            "['run', 'runner', 'run', 'ran']\n"
          ]
        }
      ]
    },
    {
      "cell_type": "code",
      "source": [
        "# Sample text with contractions\n",
        "text = \"He's running and can't stop. The dog's tail is wagging.\"\n",
        "\n",
        "# Preprocessing: Handling contractions (optional)\n",
        "# This step is to remove or replace apostrophes if desired, using regex\n",
        "text_clean = re.sub(r\"’\", \"'\", text)  # Replace fancy apostrophe\n",
        "text_clean = re.sub(r\"\\b(can't|won't)\\b\", lambda x: x.group(0).replace(\"'\", \"\"), text_clean)  # Handle can't/won't\n",
        "text_clean = re.sub(r\"'\\b\", \"\", text_clean)  # Remove apostrophes attached to words\n",
        "\n",
        "# Tokenization\n",
        "words = word_tokenize(text_clean)\n",
        "\n",
        "# Apply stemming\n",
        "stemmer = PorterStemmer()\n",
        "stemmed_words = [stemmer.stem(word) for word in words]\n",
        "print(\"Original Words:\", words)\n",
        "print(\"Stemmed Words:\", stemmed_words)\n"
      ],
      "metadata": {
        "colab": {
          "base_uri": "https://localhost:8080/"
        },
        "id": "j_xnB36GeBTu",
        "outputId": "2ec9e478-ab56-4042-8612-ecb6b8e7cee2"
      },
      "execution_count": null,
      "outputs": [
        {
          "output_type": "stream",
          "name": "stdout",
          "text": [
            "Original Words: ['Hes', 'running', 'and', 'cant', 'stop', '.', 'The', 'dogs', 'tail', 'is', 'wagging', '.']\n",
            "Stemmed Words: ['he', 'run', 'and', 'cant', 'stop', '.', 'the', 'dog', 'tail', 'is', 'wag', '.']\n"
          ]
        }
      ]
    },
    {
      "cell_type": "code",
      "source": [
        "from nltk.stem import PorterStemmer, SnowballStemmer\n",
        "\n",
        "# Initialize stemmers\n",
        "porter_stemmer = PorterStemmer()\n",
        "snowball_stemmer = SnowballStemmer(\"english\")  # SnowballStemmer for English\n",
        "\n",
        "# Sample words\n",
        "words = [\"running\", \"try\", \"easily\", \"fairly\", \"nationalization\", \"studying\"]\n",
        "\n",
        "# Apply PorterStemmer\n",
        "porter_stemmed = [porter_stemmer.stem(word) for word in words]\n",
        "\n",
        "# Apply SnowballStemmer\n",
        "snowball_stemmed = [snowball_stemmer.stem(word) for word in words]\n",
        "\n",
        "# Print comparison\n",
        "print(\"Original Words:  \", words)\n",
        "print(\"PorterStemmed:    \", porter_stemmed)\n",
        "print(\"SnowballStemmed:  \", snowball_stemmed)\n"
      ],
      "metadata": {
        "colab": {
          "base_uri": "https://localhost:8080/"
        },
        "id": "Sl8THYbOeMN3",
        "outputId": "a5cd3a11-83e2-4f05-ac30-78864524d341"
      },
      "execution_count": null,
      "outputs": [
        {
          "output_type": "stream",
          "name": "stdout",
          "text": [
            "Original Words:   ['running', 'try', 'easily', 'fairly', 'nationalization', 'studying']\n",
            "PorterStemmed:     ['run', 'tri', 'easili', 'fairli', 'nation', 'studi']\n",
            "SnowballStemmed:   ['run', 'tri', 'easili', 'fair', 'nation', 'studi']\n"
          ]
        }
      ]
    },
    {
      "cell_type": "markdown",
      "source": [
        "## 4. Lemmatization\n",
        "Lemmatization reduces words to their base or dictionary form."
      ],
      "metadata": {
        "id": "TNdQNd7Hb1kp"
      }
    },
    {
      "cell_type": "code",
      "source": [
        "nlp = spacy.load('en_core_web_sm')\n",
        "doc = nlp(\"good well better best go gone went\")\n",
        "lemmas = [token.lemma_ for token in doc]\n",
        "print(lemmas)\n"
      ],
      "metadata": {
        "colab": {
          "base_uri": "https://localhost:8080/"
        },
        "id": "lyTl3DpZb0MG",
        "outputId": "046d8521-3ba6-43c5-97cf-0c5d43046357"
      },
      "execution_count": null,
      "outputs": [
        {
          "output_type": "stream",
          "name": "stdout",
          "text": [
            "['good', 'well', 'well', 'good', 'go', 'go', 'go']\n"
          ]
        }
      ]
    },
    {
      "cell_type": "markdown",
      "source": [
        "## 5. Tokenization\n",
        "Tokenization splits text into individual words or sentences."
      ],
      "metadata": {
        "id": "Mc_hTo0Sb8Zl"
      }
    },
    {
      "cell_type": "code",
      "source": [
        "from nltk.tokenize import word_tokenize, sent_tokenize\n",
        "\n",
        "text = \"The quick brown fox. It jumps over the lazy dog.\"\n",
        "word_tokens = word_tokenize(text)\n",
        "sent_tokens = sent_tokenize(text)\n",
        "print(word_tokens)\n",
        "print(sent_tokens)\n"
      ],
      "metadata": {
        "colab": {
          "base_uri": "https://localhost:8080/"
        },
        "id": "2AfN_g_db6EU",
        "outputId": "b35c5ed7-35b3-4ae0-d179-ef861ad1090f"
      },
      "execution_count": null,
      "outputs": [
        {
          "output_type": "stream",
          "name": "stdout",
          "text": [
            "['The', 'quick', 'brown', 'fox', '.', 'It', 'jumps', 'over', 'the', 'lazy', 'dog', '.']\n",
            "['The quick brown fox.', 'It jumps over the lazy dog.']\n"
          ]
        }
      ]
    },
    {
      "cell_type": "markdown",
      "source": [
        "## 6. Stopword Removal\n",
        "Stopword removal eliminates common words like \"the\", \"is\", etc."
      ],
      "metadata": {
        "id": "uyLAHBCLcBBX"
      }
    },
    {
      "cell_type": "code",
      "source": [
        "from nltk.corpus import stopwords\n",
        "from nltk.tokenize import word_tokenize\n",
        "\n",
        "stop_words = set(stopwords.words('english'))\n",
        "text = \"The quick brown fox jumps over the lazy dog.\"\n",
        "words = word_tokenize(text)\n",
        "filtered_words = [word for word in words if word.lower() not in stop_words]\n",
        "print(filtered_words)\n"
      ],
      "metadata": {
        "colab": {
          "base_uri": "https://localhost:8080/"
        },
        "id": "jX84A-PccDna",
        "outputId": "72178c57-9aad-4b70-b9df-74d997f37ab4"
      },
      "execution_count": null,
      "outputs": [
        {
          "output_type": "stream",
          "name": "stdout",
          "text": [
            "['quick', 'brown', 'fox', 'jumps', 'lazy', 'dog', '.']\n"
          ]
        }
      ]
    },
    {
      "cell_type": "markdown",
      "source": [
        "## 7. Lowercasing\n",
        "Lowercasing converts text to all lowercase letters."
      ],
      "metadata": {
        "id": "E21TBHPAcDPR"
      }
    },
    {
      "cell_type": "code",
      "source": [
        "text = \"The Quick Brown Fox Jumps Over the LAZY Dog.\"\n",
        "# built-in Python method\n",
        "lower_text = text.lower()\n",
        "print(lower_text)\n"
      ],
      "metadata": {
        "colab": {
          "base_uri": "https://localhost:8080/"
        },
        "id": "CALDHFw-cNxR",
        "outputId": "e1eada9d-6979-4885-832d-f6fd73cf9ecf"
      },
      "execution_count": null,
      "outputs": [
        {
          "output_type": "stream",
          "name": "stdout",
          "text": [
            "the quick brown fox jumps over the lazy dog.\n"
          ]
        }
      ]
    },
    {
      "cell_type": "markdown",
      "source": [
        "## 8. POS Tagging\n",
        "Part of Speech (POS) tagging labels each word with its grammatical category."
      ],
      "metadata": {
        "id": "UuoVDAFecQqg"
      }
    },
    {
      "cell_type": "code",
      "source": [
        "from nltk import word_tokenize, pos_tag\n",
        "\n",
        "text = \"The quick brown fox jumps over the lazy dog.\"\n",
        "tokens = word_tokenize(text)\n",
        "pos_tags = pos_tag(tokens)\n",
        "print(pos_tags)\n"
      ],
      "metadata": {
        "colab": {
          "base_uri": "https://localhost:8080/"
        },
        "id": "TdGk1ZpKcS9z",
        "outputId": "c0158654-4fdd-4cd7-934f-9cbed5230dcd"
      },
      "execution_count": null,
      "outputs": [
        {
          "output_type": "stream",
          "name": "stdout",
          "text": [
            "[('The', 'DT'), ('quick', 'JJ'), ('brown', 'NN'), ('fox', 'NN'), ('jumps', 'VBZ'), ('over', 'IN'), ('the', 'DT'), ('lazy', 'JJ'), ('dog', 'NN'), ('.', '.')]\n"
          ]
        }
      ]
    },
    {
      "cell_type": "markdown",
      "source": [
        "## 9. N-gram Extraction\n",
        "N-grams are contiguous sequences of n items from a given sample of text."
      ],
      "metadata": {
        "id": "Fi4V9QiYcVn0"
      }
    },
    {
      "cell_type": "code",
      "source": [
        "from nltk import ngrams\n",
        "\n",
        "text = \"The quick brown fox jumps over the lazy dog\"\n",
        "tokens = word_tokenize(text)\n",
        "trigrams = list(ngrams(tokens, 3))\n",
        "print(trigrams)\n"
      ],
      "metadata": {
        "colab": {
          "base_uri": "https://localhost:8080/"
        },
        "id": "_tYVxEKucXd1",
        "outputId": "605d6d8f-02d6-444a-cb45-08f3fd144bf4"
      },
      "execution_count": null,
      "outputs": [
        {
          "output_type": "stream",
          "name": "stdout",
          "text": [
            "[('The', 'quick', 'brown'), ('quick', 'brown', 'fox'), ('brown', 'fox', 'jumps'), ('fox', 'jumps', 'over'), ('jumps', 'over', 'the'), ('over', 'the', 'lazy'), ('the', 'lazy', 'dog')]\n"
          ]
        }
      ]
    },
    {
      "cell_type": "markdown",
      "source": [
        "## 10. TF-IDF\n",
        "TF-IDF (Term Frequency-Inverse Document Frequency) is a weighting technique to evaluate how important a word is in a document."
      ],
      "metadata": {
        "id": "odRyv7a5caeP"
      }
    },
    {
      "cell_type": "code",
      "source": [
        "from sklearn.feature_extraction.text import TfidfVectorizer\n",
        "\n",
        "documents = [\"The quick brown fox jumps\", \"The lazy dog lies down\"]\n",
        "vectorizer = TfidfVectorizer()\n",
        "tfidf_matrix = vectorizer.fit_transform(documents)\n",
        "print(tfidf_matrix.toarray())\n"
      ],
      "metadata": {
        "colab": {
          "base_uri": "https://localhost:8080/"
        },
        "id": "lbHpmyfScZEK",
        "outputId": "65d0f5dd-54f9-446d-c9b2-e947ec7ebc02"
      },
      "execution_count": null,
      "outputs": [
        {
          "output_type": "stream",
          "name": "stdout",
          "text": [
            "[[0.47107781 0.         0.         0.47107781 0.47107781 0.\n",
            "  0.         0.47107781 0.33517574]\n",
            " [0.         0.47107781 0.47107781 0.         0.         0.47107781\n",
            "  0.47107781 0.         0.33517574]]\n"
          ]
        }
      ]
    },
    {
      "cell_type": "markdown",
      "source": [
        "## 11. Bag of Words\n",
        "Bag of Words converts text into a matrix of word counts."
      ],
      "metadata": {
        "id": "EX7mT8vDcfpN"
      }
    },
    {
      "cell_type": "code",
      "source": [
        "from sklearn.feature_extraction.text import CountVectorizer\n",
        "\n",
        "documents = [\"The quick brown fox jumps over the tree\", \"The lazy dog lies down over the ground and the cat is standing beside the tree\"]\n",
        "vectorizer = CountVectorizer()\n",
        "bow_matrix = vectorizer.fit_transform(documents)\n",
        "print(bow_matrix.toarray())\n"
      ],
      "metadata": {
        "colab": {
          "base_uri": "https://localhost:8080/"
        },
        "id": "rGLseweXcdhh",
        "outputId": "a41d9d4f-cf6b-4c15-98f8-8f842ffbdb82"
      },
      "execution_count": null,
      "outputs": [
        {
          "output_type": "stream",
          "name": "stdout",
          "text": [
            "[[0 0 1 0 0 0 1 0 0 1 0 0 1 1 0 2 1]\n",
            " [1 1 0 1 1 1 0 1 1 0 1 1 1 0 1 4 1]]\n"
          ]
        }
      ]
    },
    {
      "cell_type": "markdown",
      "source": [
        "## 12. Named Entity Recognition (NER)\n",
        "NER identifies proper nouns like person names, locations, etc."
      ],
      "metadata": {
        "id": "aoqn50k2cjuI"
      }
    },
    {
      "cell_type": "code",
      "source": [
        "import spacy\n",
        "\n",
        "nlp = spacy.load('en_core_web_sm')\n",
        "doc = nlp(\"Apple is looking at buying U.K. startup for $1 billion. Steve Jobs was eating an apple.\")\n",
        "for ent in doc.ents:\n",
        "    print(ent.text, ent.label_)\n"
      ],
      "metadata": {
        "colab": {
          "base_uri": "https://localhost:8080/"
        },
        "id": "SYp2397wclfA",
        "outputId": "20261f6e-424c-4d65-9e50-fa31d3cfc118"
      },
      "execution_count": null,
      "outputs": [
        {
          "output_type": "stream",
          "name": "stdout",
          "text": [
            "Apple ORG\n",
            "U.K. GPE\n",
            "$1 billion MONEY\n",
            "Steve PERSON\n"
          ]
        }
      ]
    },
    {
      "cell_type": "markdown",
      "source": [
        "## 13. Word Embedding (Word2Vec, GloVe)\n",
        "Word embeddings are dense vector representations of words."
      ],
      "metadata": {
        "id": "e9sC4LBQcozC"
      }
    },
    {
      "cell_type": "code",
      "source": [
        "import gensim.downloader as api\n",
        "from numpy import dot\n",
        "from numpy.linalg import norm\n",
        "\n",
        "model = api.load(\"glove-wiki-gigaword-50\")\n",
        "# Sample sentence\n",
        "sentence = 'king was in the near bank to swim in and then went to the bank to invest money. The bank was close'\n",
        "\n",
        "# Tokenize the sentence\n",
        "words = sentence.split()\n",
        "\n",
        "# Initialize a list to store embeddings for \"bank\"\n",
        "bank_vectors = []\n",
        "\n",
        "# Loop over each word to find embeddings for \"bank\"\n",
        "for word in words:\n",
        "    if word == 'bank':\n",
        "        if word in model:\n",
        "            bank_vectors.append(model[word])\n",
        "\n",
        "print(bank_vectors)\n"
      ],
      "metadata": {
        "colab": {
          "base_uri": "https://localhost:8080/"
        },
        "id": "JkBmiqmicnZv",
        "outputId": "88be0f08-cab4-462b-f63e-1792074f5ad9"
      },
      "execution_count": null,
      "outputs": [
        {
          "output_type": "stream",
          "name": "stdout",
          "text": [
            "[array([ 0.66488 , -0.11391 ,  0.67844 ,  0.17951 ,  0.6828  , -0.47787 ,\n",
            "       -0.30761 ,  0.17489 , -0.70512 , -0.55022 ,  0.1514  ,  0.10214 ,\n",
            "       -0.45063 , -0.33069 ,  0.056133,  1.2271  ,  0.55607 , -0.68297 ,\n",
            "        0.037364,  0.70266 ,  1.9093  , -0.61483 , -0.83329 , -0.3023  ,\n",
            "       -1.1118  , -1.55    ,  0.2604  ,  0.22957 , -1.0375  , -0.31789 ,\n",
            "        3.5091  , -0.25871 ,  1.0151  ,  0.65927 , -0.18231 , -0.75859 ,\n",
            "       -0.30927 , -0.91678 ,  1.0633  , -0.66761 , -0.37464 , -0.29143 ,\n",
            "        0.65606 , -0.44642 , -0.075495, -1.0552  , -0.60501 ,  0.73582 ,\n",
            "        1.0139  , -0.27749 ], dtype=float32), array([ 0.66488 , -0.11391 ,  0.67844 ,  0.17951 ,  0.6828  , -0.47787 ,\n",
            "       -0.30761 ,  0.17489 , -0.70512 , -0.55022 ,  0.1514  ,  0.10214 ,\n",
            "       -0.45063 , -0.33069 ,  0.056133,  1.2271  ,  0.55607 , -0.68297 ,\n",
            "        0.037364,  0.70266 ,  1.9093  , -0.61483 , -0.83329 , -0.3023  ,\n",
            "       -1.1118  , -1.55    ,  0.2604  ,  0.22957 , -1.0375  , -0.31789 ,\n",
            "        3.5091  , -0.25871 ,  1.0151  ,  0.65927 , -0.18231 , -0.75859 ,\n",
            "       -0.30927 , -0.91678 ,  1.0633  , -0.66761 , -0.37464 , -0.29143 ,\n",
            "        0.65606 , -0.44642 , -0.075495, -1.0552  , -0.60501 ,  0.73582 ,\n",
            "        1.0139  , -0.27749 ], dtype=float32), array([ 0.66488 , -0.11391 ,  0.67844 ,  0.17951 ,  0.6828  , -0.47787 ,\n",
            "       -0.30761 ,  0.17489 , -0.70512 , -0.55022 ,  0.1514  ,  0.10214 ,\n",
            "       -0.45063 , -0.33069 ,  0.056133,  1.2271  ,  0.55607 , -0.68297 ,\n",
            "        0.037364,  0.70266 ,  1.9093  , -0.61483 , -0.83329 , -0.3023  ,\n",
            "       -1.1118  , -1.55    ,  0.2604  ,  0.22957 , -1.0375  , -0.31789 ,\n",
            "        3.5091  , -0.25871 ,  1.0151  ,  0.65927 , -0.18231 , -0.75859 ,\n",
            "       -0.30927 , -0.91678 ,  1.0633  , -0.66761 , -0.37464 , -0.29143 ,\n",
            "        0.65606 , -0.44642 , -0.075495, -1.0552  , -0.60501 ,  0.73582 ,\n",
            "        1.0139  , -0.27749 ], dtype=float32)]\n"
          ]
        }
      ]
    },
    {
      "cell_type": "code",
      "source": [
        "import gensim.downloader as api\n",
        "import matplotlib.pyplot as plt\n",
        "from sklearn.decomposition import PCA\n",
        "\n",
        "# Load GloVe vectors from gensim's API\n",
        "model = api.load(\"glove-wiki-gigaword-50\")\n",
        "\n",
        "# Words to visualize\n",
        "words = [\"king\", \"queen\", \"girl\", \"boy\"]\n",
        "\n",
        "# Extract the word vectors\n",
        "word_vectors = [model[word] for word in words]\n",
        "\n",
        "# Perform PCA for 2D projection\n",
        "pca = PCA(n_components=2)\n",
        "word_vectors_2d = pca.fit_transform(word_vectors)\n",
        "\n",
        "# Plot the words in 2D space\n",
        "plt.figure(figsize=(8, 6))\n",
        "plt.scatter(word_vectors_2d[:, 0], word_vectors_2d[:, 1], color='blue')\n",
        "\n",
        "# Annotate the points with words\n",
        "for i, word in enumerate(words):\n",
        "    plt.annotate(word, xy=(word_vectors_2d[i, 0], word_vectors_2d[i, 1]), fontsize=12)\n",
        "\n",
        "plt.title(\"2D PCA Projection of Word Vectors\")\n",
        "plt.xlabel(\"PCA Component 1\")\n",
        "plt.ylabel(\"PCA Component 2\")\n",
        "plt.grid(True)\n",
        "plt.show()\n"
      ],
      "metadata": {
        "colab": {
          "base_uri": "https://localhost:8080/",
          "height": 564
        },
        "id": "reMxtXE_eh9r",
        "outputId": "4aa9aec8-ae21-4b9c-fd05-782e8bd7a907"
      },
      "execution_count": null,
      "outputs": [
        {
          "output_type": "display_data",
          "data": {
            "text/plain": [
              "<Figure size 800x600 with 1 Axes>"
            ],
            "image/png": "[encoded data removed]"
          },
          "metadata": {}
        }
      ]
    },
    {
      "cell_type": "markdown",
      "source": [
        "## 14. Sentence Segmentation\n",
        "Sentence segmentation divides text into sentences."
      ],
      "metadata": {
        "id": "xZizCSolcvoz"
      }
    },
    {
      "cell_type": "code",
      "source": [
        "from nltk.tokenize import sent_tokenize\n",
        "\n",
        "text = \"The quick brown fox jumps over the lazy dog. It then ran away.\"\n",
        "sentences = sent_tokenize(text)\n",
        "print(sentences)\n"
      ],
      "metadata": {
        "colab": {
          "base_uri": "https://localhost:8080/"
        },
        "id": "ryhLVE3scxFK",
        "outputId": "bd073033-0b32-426c-b7d8-d32f1537fef0"
      },
      "execution_count": null,
      "outputs": [
        {
          "output_type": "stream",
          "name": "stdout",
          "text": [
            "['The quick brown fox jumps over the lazy dog.', 'It then ran away.']\n"
          ]
        }
      ]
    },
    {
      "cell_type": "markdown",
      "source": [
        "## 15. Regex\n",
        "\n",
        "### 15.1. Phone Numbers (+dd-ddddddd)\n",
        "To match phone numbers in the form of +dd-ddddddd, where d is a digit:"
      ],
      "metadata": {
        "id": "a47q8t5nczxz"
      }
    },
    {
      "cell_type": "code",
      "source": [
        "import re\n",
        "\n",
        "# Sample text with phone numbers\n",
        "text = \"Here are two phone numbers: +12-345678923 and +44-1234567.\"\n",
        "\n",
        "# Regular expression for phone number format +dd-ddddddd\n",
        "phone_pattern = r\"\\+\\d{2}-\\d{7,}\"\n",
        "\n",
        "# Find all matches\n",
        "phone_numbers = re.findall(phone_pattern, text)\n",
        "print(phone_numbers)\n"
      ],
      "metadata": {
        "colab": {
          "base_uri": "https://localhost:8080/"
        },
        "id": "mcO69kUmc36V",
        "outputId": "67c36707-dc32-4033-a347-70d85cb6a753"
      },
      "execution_count": null,
      "outputs": [
        {
          "output_type": "stream",
          "name": "stdout",
          "text": [
            "['+12-345678923', '+44-1234567']\n"
          ]
        }
      ]
    },
    {
      "cell_type": "markdown",
      "source": [
        "###15.2. Email Addresses\n",
        "A common regex for matching standard email addresses (though not exhaustive) is:"
      ],
      "metadata": {
        "id": "eGXQd9W5dB0l"
      }
    },
    {
      "cell_type": "code",
      "source": [
        "# Regular expression for email addresses\n",
        "email_pattern = r\"[a-zA-Z0-9._%+-]+@[a-zA-Z0-9.-]+\\.[a-zA-Z]{2,}\"\n",
        "\n",
        "# Sample text with emails\n",
        "text = \"Please contact us at info@example.com or support@company.org or reza@info.nl\"\n",
        "\n",
        "# Find all email matches\n",
        "email_addresses = re.findall(email_pattern, text)\n",
        "print(email_addresses)\n"
      ],
      "metadata": {
        "colab": {
          "base_uri": "https://localhost:8080/"
        },
        "id": "DnaLwd30dABU",
        "outputId": "f14bccf8-0c59-4f55-ded3-21bb1e8b0a89"
      },
      "execution_count": null,
      "outputs": [
        {
          "output_type": "stream",
          "name": "stdout",
          "text": [
            "['info@example.com', 'support@company.org', 'reza@info.nl']\n"
          ]
        }
      ]
    }
  ],
  "metadata": {
    "colab": {
      "provenance": []
    },
    "kernelspec": {
      "display_name": "Python 3",
      "name": "python3"
    }
  },
  "nbformat": 4,
  "nbformat_minor": 0
}